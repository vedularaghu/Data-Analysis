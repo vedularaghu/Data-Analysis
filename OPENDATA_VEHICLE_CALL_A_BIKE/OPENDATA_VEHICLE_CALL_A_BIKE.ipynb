{
 "cells": [
  {
   "cell_type": "code",
   "execution_count": 14,
   "metadata": {
    "collapsed": false
   },
   "outputs": [],
   "source": [
    "import pandas as pd\n",
    "import numpy as np\n",
    "import matplotlib.pyplot as plt\n",
    "import plotly.plotly as py\n",
    "import plotly\n",
    "from plotly.graph_objs import *"
   ]
  },
  {
   "cell_type": "code",
   "execution_count": 2,
   "metadata": {
    "collapsed": false
   },
   "outputs": [
    {
     "data": {
      "text/html": [
       "<div>\n",
       "<table border=\"1\" class=\"dataframe\">\n",
       "  <thead>\n",
       "    <tr style=\"text-align: right;\">\n",
       "      <th></th>\n",
       "      <th>VEHICLE_HAL_ID</th>\n",
       "      <th>VEHICLE_MODEL_TYPE</th>\n",
       "      <th>VEHICLE_MANUFACTURER_NAME</th>\n",
       "      <th>VEHICLE_MODEL_NAME</th>\n",
       "      <th>VEHICLE_TYPE_NAME</th>\n",
       "      <th>VIN</th>\n",
       "      <th>REGISTRATION_PLATE</th>\n",
       "      <th>SERIAL_NUMBER</th>\n",
       "      <th>KW</th>\n",
       "      <th>FUEL_TYPE_NAME</th>\n",
       "      <th>OWNERSHIP_TYPE</th>\n",
       "      <th>CAPACITY_AMOUNT</th>\n",
       "      <th>ACCESS_CONTROL_COMPONENT_TYPE</th>\n",
       "      <th>COMPANY</th>\n",
       "      <th>COMPANY_GROUP</th>\n",
       "    </tr>\n",
       "  </thead>\n",
       "  <tbody>\n",
       "    <tr>\n",
       "      <th>0</th>\n",
       "      <td>110466</td>\n",
       "      <td>Fahrrad</td>\n",
       "      <td>Biketec</td>\n",
       "      <td>DB-Look</td>\n",
       "      <td>CallBike</td>\n",
       "      <td>NaN</td>\n",
       "      <td>NaN</td>\n",
       "      <td>4467</td>\n",
       "      <td>NaN</td>\n",
       "      <td>NaN</td>\n",
       "      <td>Kauf</td>\n",
       "      <td>NaN</td>\n",
       "      <td>CAB GPRS 2.0</td>\n",
       "      <td>Call a Bike</td>\n",
       "      <td>Call a Bike</td>\n",
       "    </tr>\n",
       "    <tr>\n",
       "      <th>1</th>\n",
       "      <td>110471</td>\n",
       "      <td>Fahrrad</td>\n",
       "      <td>Biketec</td>\n",
       "      <td>DB-Look</td>\n",
       "      <td>CallBike</td>\n",
       "      <td>NaN</td>\n",
       "      <td>NaN</td>\n",
       "      <td>4472</td>\n",
       "      <td>NaN</td>\n",
       "      <td>NaN</td>\n",
       "      <td>Kauf</td>\n",
       "      <td>NaN</td>\n",
       "      <td>CAB 4.0</td>\n",
       "      <td>Call a Bike</td>\n",
       "      <td>Call a Bike</td>\n",
       "    </tr>\n",
       "    <tr>\n",
       "      <th>2</th>\n",
       "      <td>110574</td>\n",
       "      <td>Fahrrad</td>\n",
       "      <td>Biketec</td>\n",
       "      <td>DB-Look</td>\n",
       "      <td>CallBike</td>\n",
       "      <td>NaN</td>\n",
       "      <td>NaN</td>\n",
       "      <td>4575</td>\n",
       "      <td>NaN</td>\n",
       "      <td>NaN</td>\n",
       "      <td>Kauf</td>\n",
       "      <td>NaN</td>\n",
       "      <td>CAB GPRS 2.0</td>\n",
       "      <td>Call a Bike</td>\n",
       "      <td>Call a Bike</td>\n",
       "    </tr>\n",
       "    <tr>\n",
       "      <th>3</th>\n",
       "      <td>110581</td>\n",
       "      <td>Fahrrad</td>\n",
       "      <td>Biketec</td>\n",
       "      <td>StadtRAD-Look</td>\n",
       "      <td>StadtRAD</td>\n",
       "      <td>NaN</td>\n",
       "      <td>NaN</td>\n",
       "      <td>4582</td>\n",
       "      <td>NaN</td>\n",
       "      <td>NaN</td>\n",
       "      <td>Kauf</td>\n",
       "      <td>NaN</td>\n",
       "      <td>CAB 2.0</td>\n",
       "      <td>StadtRAD Hamburg</td>\n",
       "      <td>Call a Bike</td>\n",
       "    </tr>\n",
       "    <tr>\n",
       "      <th>4</th>\n",
       "      <td>110588</td>\n",
       "      <td>Fahrrad</td>\n",
       "      <td>Biketec</td>\n",
       "      <td>DB-Look</td>\n",
       "      <td>CallBike</td>\n",
       "      <td>NaN</td>\n",
       "      <td>NaN</td>\n",
       "      <td>4589</td>\n",
       "      <td>NaN</td>\n",
       "      <td>NaN</td>\n",
       "      <td>Kauf</td>\n",
       "      <td>NaN</td>\n",
       "      <td>CAB GPRS 2.0</td>\n",
       "      <td>Call a Bike</td>\n",
       "      <td>Call a Bike</td>\n",
       "    </tr>\n",
       "  </tbody>\n",
       "</table>\n",
       "</div>"
      ],
      "text/plain": [
       "   VEHICLE_HAL_ID VEHICLE_MODEL_TYPE VEHICLE_MANUFACTURER_NAME  \\\n",
       "0          110466            Fahrrad                   Biketec   \n",
       "1          110471            Fahrrad                   Biketec   \n",
       "2          110574            Fahrrad                   Biketec   \n",
       "3          110581            Fahrrad                   Biketec   \n",
       "4          110588            Fahrrad                   Biketec   \n",
       "\n",
       "  VEHICLE_MODEL_NAME VEHICLE_TYPE_NAME  VIN  REGISTRATION_PLATE  \\\n",
       "0            DB-Look          CallBike  NaN                 NaN   \n",
       "1            DB-Look          CallBike  NaN                 NaN   \n",
       "2            DB-Look          CallBike  NaN                 NaN   \n",
       "3      StadtRAD-Look          StadtRAD  NaN                 NaN   \n",
       "4            DB-Look          CallBike  NaN                 NaN   \n",
       "\n",
       "   SERIAL_NUMBER  KW  FUEL_TYPE_NAME OWNERSHIP_TYPE  CAPACITY_AMOUNT  \\\n",
       "0           4467 NaN             NaN           Kauf              NaN   \n",
       "1           4472 NaN             NaN           Kauf              NaN   \n",
       "2           4575 NaN             NaN           Kauf              NaN   \n",
       "3           4582 NaN             NaN           Kauf              NaN   \n",
       "4           4589 NaN             NaN           Kauf              NaN   \n",
       "\n",
       "  ACCESS_CONTROL_COMPONENT_TYPE           COMPANY COMPANY_GROUP  \n",
       "0                  CAB GPRS 2.0       Call a Bike   Call a Bike  \n",
       "1                       CAB 4.0       Call a Bike   Call a Bike  \n",
       "2                  CAB GPRS 2.0       Call a Bike   Call a Bike  \n",
       "3                       CAB 2.0  StadtRAD Hamburg   Call a Bike  \n",
       "4                  CAB GPRS 2.0       Call a Bike   Call a Bike  "
      ]
     },
     "execution_count": 2,
     "metadata": {},
     "output_type": "execute_result"
    }
   ],
   "source": [
    "df = pd.read_csv('OPENDATA_VEHICLE_CALL_A_BIKE.csv', sep=';')\n",
    "df.head()"
   ]
  },
  {
   "cell_type": "code",
   "execution_count": 3,
   "metadata": {
    "collapsed": false
   },
   "outputs": [
    {
     "name": "stdout",
     "output_type": "stream",
     "text": [
      "['DB-Look' 'StadtRAD-Look' 'Konrad-Look' 'Pedelec' 'Lidl-Look']\n",
      "['CallBike' 'StadtRAD' 'Konrad' 'Pedelec' 'LIDL-BIKE']\n",
      "['Call a Bike' 'StadtRAD Hamburg' 'Konrad']\n"
     ]
    }
   ],
   "source": [
    "vmn = df['VEHICLE_MODEL_NAME'].unique()\n",
    "print(vmn)\n",
    "vtn = df['VEHICLE_TYPE_NAME'].unique()\n",
    "print(vtn)\n",
    "cn = df['COMPANY'].unique()\n",
    "print(cn)"
   ]
  },
  {
   "cell_type": "code",
   "execution_count": 4,
   "metadata": {
    "collapsed": false
   },
   "outputs": [],
   "source": [
    "call_a_Bike = df[df['COMPANY']=='Call a Bike']\n",
    "StadtRAD_Hambur = df[df['COMPANY']=='StadtRAD Hamburg']\n",
    "Konrad = df[df['COMPANY']=='Konrad']"
   ]
  },
  {
   "cell_type": "code",
   "execution_count": 5,
   "metadata": {
    "collapsed": false
   },
   "outputs": [
    {
     "name": "stdout",
     "output_type": "stream",
     "text": [
      "['DB-Look' 'Pedelec' 'StadtRAD-Look' 'Lidl-Look']\n",
      "['StadtRAD-Look' 'DB-Look']\n",
      "['Konrad-Look']\n"
     ]
    }
   ],
   "source": [
    "call_a_bike_models = call_a_Bike['VEHICLE_MODEL_NAME'].unique()\n",
    "print(call_a_bike_models)\n",
    "StadtRAD_Hambur_models = StadtRAD_Hambur['VEHICLE_MODEL_NAME'].unique()\n",
    "print(StadtRAD_Hambur_models)\n",
    "Konrad_models = Konrad['VEHICLE_MODEL_NAME'].unique()\n",
    "print(Konrad_models)"
   ]
  },
  {
   "cell_type": "code",
   "execution_count": 6,
   "metadata": {
    "collapsed": false
   },
   "outputs": [
    {
     "name": "stdout",
     "output_type": "stream",
     "text": [
      "{'DB-Look': 7940, 'StadtRAD-Look': 1, 'Lidl-Look': 3, 'Pedelec': 118}\n"
     ]
    }
   ],
   "source": [
    "call_a_Bike_models_count = {}\n",
    "for i in call_a_bike_models:\n",
    "    call_a_Bike_models_count[i] = len(call_a_Bike[call_a_Bike['VEHICLE_MODEL_NAME']==i])\n",
    "print(call_a_Bike_models_count)"
   ]
  },
  {
   "cell_type": "code",
   "execution_count": 7,
   "metadata": {
    "collapsed": false
   },
   "outputs": [
    {
     "name": "stdout",
     "output_type": "stream",
     "text": [
      "{'DB-Look': 3, 'StadtRAD-Look': 2666}\n"
     ]
    }
   ],
   "source": [
    "StadtRAD_Hambur_models_count = {}\n",
    "for i in StadtRAD_Hambur_models:\n",
    "    StadtRAD_Hambur_models_count[i] = len(StadtRAD_Hambur[StadtRAD_Hambur['VEHICLE_MODEL_NAME']==i])\n",
    "print(StadtRAD_Hambur_models_count)"
   ]
  },
  {
   "cell_type": "code",
   "execution_count": 8,
   "metadata": {
    "collapsed": false
   },
   "outputs": [
    {
     "name": "stdout",
     "output_type": "stream",
     "text": [
      "{'Konrad-Look': 497}\n"
     ]
    }
   ],
   "source": [
    "Konrad_models_count = {}\n",
    "for i in Konrad_models:\n",
    "    Konrad_models_count[i] = len(Konrad[Konrad['VEHICLE_MODEL_NAME']==i])\n",
    "print(Konrad_models_count)"
   ]
  },
  {
   "cell_type": "code",
   "execution_count": 9,
   "metadata": {
    "collapsed": false
   },
   "outputs": [],
   "source": [
    "call_a_Bike_model_name = []\n",
    "call_a_Bike_model_num = []\n",
    "for key, val in call_a_Bike_models_count.items():\n",
    "    call_a_Bike_model_name.append(key)\n",
    "    call_a_Bike_model_num.append(val)"
   ]
  },
  {
   "cell_type": "code",
   "execution_count": 10,
   "metadata": {
    "collapsed": true
   },
   "outputs": [],
   "source": [
    "StadtRAD_Hambur_models_name = []\n",
    "StadtRAD_Hambur_models_num = []\n",
    "for key, val in StadtRAD_Hambur_models_count.items():\n",
    "    StadtRAD_Hambur_models_name.append(key)\n",
    "    StadtRAD_Hambur_models_num.append(val)"
   ]
  },
  {
   "cell_type": "code",
   "execution_count": 11,
   "metadata": {
    "collapsed": true
   },
   "outputs": [],
   "source": [
    "Konrad_models_name = []\n",
    "Konrad_models_num = []\n",
    "for key, val in Konrad_models_count.items():\n",
    "    Konrad_models_name.append(key)\n",
    "    Konrad_models_num.append(val)"
   ]
  },
  {
   "cell_type": "code",
   "execution_count": 28,
   "metadata": {
    "collapsed": false
   },
   "outputs": [
    {
     "data": {
      "image/png": "[encoded data removed]",
      "text/plain": [
       "<matplotlib.figure.Figure at 0x7f94890db0f0>"
      ]
     },
     "metadata": {},
     "output_type": "display_data"
    }
   ],
   "source": [
    "x_plot = np.arange(len(call_a_Bike_model_num))\n",
    "plt.figure(figsize=(15,5))\n",
    "plt.title('Call a Bike Company', fontsize = 16, fontweight = 'bold')\n",
    "p = plt.bar(x_plot+1, call_a_Bike_model_num)\n",
    "plt.xticks(x_plot+2, call_a_Bike_model_name, rotation = 'vertical')\n",
    "plt.show()"
   ]
  },
  {
   "cell_type": "code",
   "execution_count": 29,
   "metadata": {
    "collapsed": false
   },
   "outputs": [
    {
     "data": {
      "image/png": "[encoded data removed]",
      "text/plain": [
       "<matplotlib.figure.Figure at 0x7f9489041f98>"
      ]
     },
     "metadata": {},
     "output_type": "display_data"
    }
   ],
   "source": [
    "x_plot = np.arange(len(StadtRAD_Hambur_models_name))\n",
    "plt.figure(figsize=(15,5))\n",
    "plt.title('Call a Bike Company', fontsize = 16, fontweight = 'bold')\n",
    "p = plt.bar(x_plot+1, StadtRAD_Hambur_models_num)\n",
    "plt.xticks(x_plot+2, StadtRAD_Hambur_models_name, rotation = 'vertical')\n",
    "plt.show()"
   ]
  },
  {
   "cell_type": "code",
   "execution_count": 31,
   "metadata": {
    "collapsed": false
   },
   "outputs": [
    {
     "data": {
      "image/png": "[encoded data removed]",
      "text/plain": [
       "<matplotlib.figure.Figure at 0x7f9489147898>"
      ]
     },
     "metadata": {},
     "output_type": "display_data"
    }
   ],
   "source": [
    "x_plot = np.arange(len(Konrad_models_name))\n",
    "plt.figure(figsize=(3,3))\n",
    "plt.title('Call a Bike Company', fontsize = 16, fontweight = 'bold')\n",
    "p = plt.bar(x_plot+1, Konrad_models_num)\n",
    "plt.xticks(x_plot+2, Konrad_models_name, rotation = 'vertical')\n",
    "plt.show()"
   ]
  }
 ],
 "metadata": {
  "anaconda-cloud": {},
  "kernelspec": {
   "display_name": "Python [default]",
   "language": "python",
   "name": "python3"
  },
  "language_info": {
   "codemirror_mode": {
    "name": "ipython",
    "version": 3
   },
   "file_extension": ".py",
   "mimetype": "text/x-python",
   "name": "python",
   "nbconvert_exporter": "python",
   "pygments_lexer": "ipython3",
   "version": "3.5.2"
  }
 },
 "nbformat": 4,
 "nbformat_minor": 1
}
